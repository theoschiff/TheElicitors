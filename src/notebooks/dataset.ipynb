{
 "cells": [
  {
   "cell_type": "markdown",
   "id": "a3c247cd",
   "metadata": {},
   "source": [
    "## This is for creating and splitting the Poetry dataset."
   ]
  },
  {
   "cell_type": "code",
   "execution_count": null,
   "id": "0951de28",
   "metadata": {},
   "outputs": [],
   "source": [
    "from datasets import load_dataset, Dataset\n",
    "import pandas as pd"
   ]
  },
  {
   "cell_type": "code",
   "execution_count": null,
   "id": "c077f7ae",
   "metadata": {},
   "outputs": [],
   "source": [
    "dataset = load_dataset(\"DanFosing/public-domain-poetry\")\n",
    "dataset_df = pd.DataFrame(dataset[\"train\"])\n",
    "dataset_df = dataset_df[[\"Author\", \"Title\", \"text\"]]"
   ]
  },
  {
   "cell_type": "code",
   "execution_count": null,
   "id": "bca82034",
   "metadata": {},
   "outputs": [],
   "source": [
    "def split_poem_lines(poem, ratio=1/3):\n",
    "    lines = poem.splitlines()\n",
    "    split_idx = max(1, int(len(lines) * ratio))\n",
    "    start = \"\\n\".join(lines[:split_idx])\n",
    "    end = \"\\n\".join(lines[split_idx:])\n",
    "    return pd.Series([start, end])\n",
    "\n",
    "dataset_df[[\"poem_start\", \"poem_end\"]] = dataset_df[\"text\"].apply(split_poem_lines)"
   ]
  },
  {
   "cell_type": "code",
   "execution_count": null,
   "id": "80658146",
   "metadata": {},
   "outputs": [],
   "source": [
    "dataset_df.drop(columns=[\"text\"], inplace=True)\n",
    "dataset_df.rename(columns={\"Author\": \"author\", \"Title\": \"title\"}, inplace=True)\n",
    "dataset = Dataset.from_pandas(dataset_df)\n",
    "dataset = dataset.train_test_split(test_size=0.1, seed=42)"
   ]
  },
  {
   "cell_type": "code",
   "execution_count": null,
   "id": "5d483499",
   "metadata": {},
   "outputs": [],
   "source": [
    "import os \n",
    "dataset.push_to_hub(\"Jeremmmyyyyy/Poetry\", private=False, token=os.getenv(\"HF_TOKEN\"))"
   ]
  },
  {
   "cell_type": "markdown",
   "id": "bb0ebd24",
   "metadata": {},
   "source": [
    "## This is for creating the math Dataset"
   ]
  },
  {
   "cell_type": "code",
   "execution_count": null,
   "id": "bb53e267",
   "metadata": {},
   "outputs": [],
   "source": [
    "from datasets import load_dataset, Dataset\n",
    "import pandas as pd\n",
    "from fractions import Fraction\n",
    "\n",
    "dataset = load_dataset(\"Jiayi-Pan/Countdown-Tasks-3to4\")\n",
    "dataset = dataset[\"train\"].shuffle(seed=42).select(range(11000))\n",
    "dataset = dataset.train_test_split(test_size=1000, seed=42)"
   ]
  },
  {
   "cell_type": "code",
   "execution_count": null,
   "id": "16d81d38",
   "metadata": {},
   "outputs": [],
   "source": [
    "def find_countdown_expression(nums, target):\n",
    "    \"\"\"\n",
    "    Find an arithmetic expression using each number in nums exactly once that evaluates to target.\n",
    "    Operations allowed: +, -, *, /, with parentheses.\n",
    "    Uses Fraction for exact arithmetic to avoid floating-point issues.\n",
    "\n",
    "    Args:\n",
    "        nums (list of int or float): input numbers\n",
    "        target (int or float): desired target value\n",
    "\n",
    "    Returns:\n",
    "        str: a string representation of the expression that evaluates to target\n",
    "\n",
    "    Raises:\n",
    "        ValueError: if no expression can be found\n",
    "    \"\"\"\n",
    "    # Prepare initial list of (value, expression) pairs\n",
    "    initial = [(Fraction(n), str(n)) for n in nums]\n",
    "    target_frac = Fraction(target)\n",
    "\n",
    "    def helper(pairs):\n",
    "        # If only one value remains, check if it equals the target\n",
    "        if len(pairs) == 1:\n",
    "            val, expr = pairs[0]\n",
    "            if val == target_frac:\n",
    "                return expr\n",
    "            return None\n",
    "\n",
    "        # Try all pairs of numbers\n",
    "        for i in range(len(pairs)):\n",
    "            for j in range(i + 1, len(pairs)):\n",
    "                a_val, a_expr = pairs[i]\n",
    "                b_val, b_expr = pairs[j]\n",
    "\n",
    "                # Build a new list of remaining numbers\n",
    "                rest = [pairs[k] for k in range(len(pairs)) if k not in (i, j)]\n",
    "\n",
    "                # Generate all possible operations\n",
    "                operations = [\n",
    "                    (a_val + b_val, f\"({a_expr}+{b_expr})\"),\n",
    "                    (a_val - b_val, f\"({a_expr}-{b_expr})\"),\n",
    "                    (b_val - a_val, f\"({b_expr}-{a_expr})\"),\n",
    "                    (a_val * b_val, f\"({a_expr}*{b_expr})\"),\n",
    "                ]\n",
    "\n",
    "                # Division operations, avoid division by zero\n",
    "                if b_val != 0:\n",
    "                    operations.append((a_val / b_val, f\"({a_expr}/{b_expr})\"))\n",
    "                if a_val != 0:\n",
    "                    operations.append((b_val / a_val, f\"({b_expr}/{a_expr})\"))\n",
    "\n",
    "                # Recurse on each possibility\n",
    "                for new_val, new_expr in operations:\n",
    "                    result = helper(rest + [(new_val, new_expr)])\n",
    "                    if result:\n",
    "                        val = eval(result, {\"__builtins__\": None}, {})\n",
    "                        assert abs(float(val) - float(target)) < 1e-5, f\"Invalid expression: {result}\"\n",
    "                        return result\n",
    "        return None\n",
    "\n",
    "    expression = helper(initial)\n",
    "    if expression is None:\n",
    "        raise ValueError(f\"No solution found for nums={nums} target={target}\")\n",
    "    return expression\n",
    "\n",
    "def add_gold_answer_to_dataset(dataset):\n",
    "    \"\"\"\n",
    "    Load the HF dataset, compute the countdown solution for each example, and return a new Dataset with 'gold_answer'.\n",
    "\n",
    "    Args:\n",
    "        dataset : Hugging Face dataset\n",
    "\n",
    "    Returns:\n",
    "        datasets.Dataset: with additional 'gold_answer' column\n",
    "    \"\"\"\n",
    "    def solve(example):\n",
    "        nums = example['nums']\n",
    "        target = example['target']\n",
    "        try:\n",
    "            example['gold_answer'] = find_countdown_expression(nums, target)\n",
    "        except ValueError:\n",
    "            example['gold_answer'] = None\n",
    "        return example\n",
    "\n",
    "    new_ds = dataset.map(solve)\n",
    "    return new_ds"
   ]
  },
  {
   "cell_type": "code",
   "execution_count": null,
   "id": "e74890a8",
   "metadata": {},
   "outputs": [],
   "source": [
    "dataset[\"train\"] = add_gold_answer_to_dataset(dataset[\"train\"])\n",
    "dataset[\"test\"] = add_gold_answer_to_dataset(dataset[\"test\"])\n",
    "dataset[\"test_samples\"] = add_gold_answer_to_dataset(dataset[\"test\"]).select(range(10))\n"
   ]
  },
  {
   "cell_type": "code",
   "execution_count": null,
   "id": "9f0e5337",
   "metadata": {},
   "outputs": [],
   "source": [
    "import os \n",
    "dataset.push_to_hub(\"Jeremmmyyyyy/Math\", private=False, token=os.getenv(\"HF_TOKEN\"))"
   ]
  },
  {
   "cell_type": "code",
   "execution_count": null,
   "id": "fd0803c2",
   "metadata": {},
   "outputs": [],
   "source": []
  }
 ],
 "metadata": {
  "kernelspec": {
   "display_name": "master",
   "language": "python",
   "name": "python3"
  },
  "language_info": {
   "codemirror_mode": {
    "name": "ipython",
    "version": 3
   },
   "file_extension": ".py",
   "mimetype": "text/x-python",
   "name": "python",
   "nbconvert_exporter": "python",
   "pygments_lexer": "ipython3",
   "version": "3.11.9"
  }
 },
 "nbformat": 4,
 "nbformat_minor": 5
}
