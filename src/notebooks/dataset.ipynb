{
 "cells": [
  {
   "cell_type": "code",
   "execution_count": null,
   "id": "0951de28",
   "metadata": {},
   "outputs": [],
   "source": [
    "from datasets import load_dataset, Dataset\n",
    "import pandas as pd"
   ]
  },
  {
   "cell_type": "code",
   "execution_count": 10,
   "id": "c077f7ae",
   "metadata": {},
   "outputs": [],
   "source": [
    "dataset = load_dataset(\"DanFosing/public-domain-poetry\")\n",
    "dataset_df = pd.DataFrame(dataset[\"train\"])\n",
    "dataset_df = dataset_df[[\"Author\", \"Title\", \"text\"]]"
   ]
  },
  {
   "cell_type": "code",
   "execution_count": 11,
   "id": "bca82034",
   "metadata": {},
   "outputs": [],
   "source": [
    "def split_poem_lines(poem, ratio=1/3):\n",
    "    lines = poem.splitlines()\n",
    "    split_idx = max(1, int(len(lines) * ratio))\n",
    "    start = \"\\n\".join(lines[:split_idx])\n",
    "    end = \"\\n\".join(lines[split_idx:])\n",
    "    return pd.Series([start, end])\n",
    "\n",
    "dataset_df[[\"poem_start\", \"poem_end\"]] = dataset_df[\"text\"].apply(split_poem_lines)"
   ]
  },
  {
   "cell_type": "code",
   "execution_count": 12,
   "id": "80658146",
   "metadata": {},
   "outputs": [],
   "source": [
    "dataset_df.drop(columns=[\"text\"], inplace=True)\n",
    "dataset_df.rename(columns={\"Author\": \"author\", \"Title\": \"title\"}, inplace=True)\n",
    "dataset = Dataset.from_pandas(dataset_df)\n",
    "dataset = dataset.train_test_split(test_size=0.1, seed=42)"
   ]
  },
  {
   "cell_type": "code",
   "execution_count": 14,
   "id": "5d483499",
   "metadata": {},
   "outputs": [
    {
     "data": {
      "application/vnd.jupyter.widget-view+json": {
       "model_id": "5b89a35ba0d049e39482f2ec3450c01b",
       "version_major": 2,
       "version_minor": 0
      },
      "text/plain": [
       "Uploading the dataset shards:   0%|          | 0/1 [00:00<?, ?it/s]"
      ]
     },
     "metadata": {},
     "output_type": "display_data"
    },
    {
     "data": {
      "application/vnd.jupyter.widget-view+json": {
       "model_id": "1c724f2dbf2246ef80d54de7fad67789",
       "version_major": 2,
       "version_minor": 0
      },
      "text/plain": [
       "Creating parquet from Arrow format:   0%|          | 0/35 [00:00<?, ?ba/s]"
      ]
     },
     "metadata": {},
     "output_type": "display_data"
    },
    {
     "data": {
      "application/vnd.jupyter.widget-view+json": {
       "model_id": "d48e8d569b5a4f389743c22bf6796a46",
       "version_major": 2,
       "version_minor": 0
      },
      "text/plain": [
       "  0%|          | 0/1 [00:00<?, ?it/s]"
      ]
     },
     "metadata": {},
     "output_type": "display_data"
    },
    {
     "name": "stderr",
     "output_type": "stream",
     "text": [
      "c:\\Users\\jerem\\anaconda3\\envs\\master\\Lib\\site-packages\\huggingface_hub\\lfs.py:337: UserWarning: hf_transfer is enabled but does not support uploading from bytes or BinaryIO, falling back to regular upload\n",
      "  warnings.warn(\n"
     ]
    },
    {
     "data": {
      "application/vnd.jupyter.widget-view+json": {
       "model_id": "c4d01effc16f494ea069c75beb3b737d",
       "version_major": 2,
       "version_minor": 0
      },
      "text/plain": [
       "Uploading the dataset shards:   0%|          | 0/1 [00:00<?, ?it/s]"
      ]
     },
     "metadata": {},
     "output_type": "display_data"
    },
    {
     "data": {
      "application/vnd.jupyter.widget-view+json": {
       "model_id": "6d98e66a020b4e86afb271083ade2efb",
       "version_major": 2,
       "version_minor": 0
      },
      "text/plain": [
       "Creating parquet from Arrow format:   0%|          | 0/4 [00:00<?, ?ba/s]"
      ]
     },
     "metadata": {},
     "output_type": "display_data"
    },
    {
     "data": {
      "application/vnd.jupyter.widget-view+json": {
       "model_id": "ad65c7b986ae4150b8d6b03d57dce9a4",
       "version_major": 2,
       "version_minor": 0
      },
      "text/plain": [
       "  0%|          | 0/1 [00:00<?, ?it/s]"
      ]
     },
     "metadata": {},
     "output_type": "display_data"
    },
    {
     "data": {
      "text/plain": [
       "CommitInfo(commit_url='https://huggingface.co/datasets/Jeremmmyyyyy/Poetry/commit/e5bf24bdee5ebba8d1a228e41dd6bff145abad7c', commit_message='Upload dataset', commit_description='', oid='e5bf24bdee5ebba8d1a228e41dd6bff145abad7c', pr_url=None, repo_url=RepoUrl('https://huggingface.co/datasets/Jeremmmyyyyy/Poetry', endpoint='https://huggingface.co', repo_type='dataset', repo_id='Jeremmmyyyyy/Poetry'), pr_revision=None, pr_num=None)"
      ]
     },
     "execution_count": 14,
     "metadata": {},
     "output_type": "execute_result"
    }
   ],
   "source": [
    "import os \n",
    "dataset.push_to_hub(\"Jeremmmyyyyy/Poetry\", private=False, token=os.getenv(\"HF_TOKEN\"))"
   ]
  },
  {
   "cell_type": "code",
   "execution_count": null,
   "id": "16d81d38",
   "metadata": {},
   "outputs": [],
   "source": []
  }
 ],
 "metadata": {
  "kernelspec": {
   "display_name": "master",
   "language": "python",
   "name": "python3"
  },
  "language_info": {
   "codemirror_mode": {
    "name": "ipython",
    "version": 3
   },
   "file_extension": ".py",
   "mimetype": "text/x-python",
   "name": "python",
   "nbconvert_exporter": "python",
   "pygments_lexer": "ipython3",
   "version": "3.11.9"
  }
 },
 "nbformat": 4,
 "nbformat_minor": 5
}
